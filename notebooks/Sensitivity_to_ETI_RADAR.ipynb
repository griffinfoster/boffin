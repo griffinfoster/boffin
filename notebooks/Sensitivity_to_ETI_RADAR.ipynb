{
 "cells": [
  {
   "cell_type": "code",
   "execution_count": 1,
   "metadata": {
    "collapsed": false,
    "deletable": true,
    "editable": true
   },
   "outputs": [],
   "source": [
    "import numpy as np\n",
    "import matplotlib.pyplot as plt\n",
    "from matplotlib import rc\n",
    "%matplotlib inline\n",
    "\n",
    "rc('text', usetex=True)\n",
    "plt.rcParams['figure.figsize'] = (12, 8)"
   ]
  },
  {
   "cell_type": "markdown",
   "metadata": {
    "deletable": true,
    "editable": true
   },
   "source": [
    "## Sensitivity to ETI RADAR\n",
    "\n",
    "If we would like to determine the sensitivity to a ETI RADAR system we have to consider the intensity of, and distance to the ETI signal, and the sensitivity of our radio telescopes. We need to answer the following:\n",
    "\n",
    "1. What is the flux density of a RADAR or any broadband, short duration in time pulse from a distance source, such as an ETI?\n",
    "2. How sensitive would we be to such a signal with the current and future radio telescopes?\n",
    "\n",
    "We will use the Arecibo RADAR system as a proxy for an ETI RADAR system. The Arecibo S-band (12.6 cm, 2380 MHz) RADAR system ([1](http://www.naic.edu/~nolan/radar/),[2](http://www.naic.edu/~astro/RXstatus/Sradar/Sradar.shtml)) is a highly-directive, long-distance signal marker. The RADAR system has the following specifications:\n",
    "\n",
    "| S-Band RADAR  |               |\n",
    "| -------------:| ------------- |\n",
    "| Transmission Frequency | 2380 MHz |\n",
    "| Bandwidth     | 100 MHz       |\n",
    "| Polarization  | Dual Circular |\n",
    "| Power         | 900 kW ([3](https://arxiv.org/pdf/1604.01080.pdf)) |\n",
    "| Analogue Gain | 10 K/Jy ([4](http://www.naic.edu/~phil/pnt/pnterrs_sysperf_afterPainting_apr16.html),[5](http://www.naic.edu/~phil/pnt/sbnx102_160421.pdf)) |\n",
    "| $T_{\\textrm{sys}}$ | 25 K ([4](http://www.naic.edu/~phil/pnt/pnterrs_sysperf_afterPainting_apr16.html),[5](http://www.naic.edu/~phil/pnt/sbnx102_160421.pdf)) |\n",
    "\n",
    "Using the Nyquist approximation for a thermal noise source ([6](https://en.wikipedia.org/wiki/Johnson%E2%80%93Nyquist_noise)), the power of the RADAR can be related to a temperature:\n",
    "\n",
    "$$P_{\\textrm{RADAR}} = k \\cdot T_{\\textrm{RADAR}} \\cdot \\Delta \\nu$$\n",
    "\n",
    "where $k$ is the Boltzman constant and $\\Delta \\nu$ is the transmission bandwidth."
   ]
  },
  {
   "cell_type": "code",
   "execution_count": 2,
   "metadata": {
    "collapsed": false,
    "deletable": true,
    "editable": true
   },
   "outputs": [],
   "source": [
    "pRadar = 9e5 # Watts (J/s)\n",
    "bw = 100e6 # Hz (1/s)\n",
    "kk = 1.38064852e-23 # Boltzman constant J/K\n",
    "tRadar = pRadar / (kk * bw) # K"
   ]
  },
  {
   "cell_type": "markdown",
   "metadata": {
    "deletable": true,
    "editable": true
   },
   "source": [
    "### Flux Density of the Arecibo RADAR"
   ]
  },
  {
   "cell_type": "markdown",
   "metadata": {
    "deletable": true,
    "editable": true
   },
   "source": [
    "Making the approximation that the Arecibo telescope is a parabolic reflector we can use standard analytical models for gain and beam size. This is of course not correct as the Arecibo telescope is a Gregorian-offset, spheriodal dish, but this is a decent approximation. Using the angular resolution equation([6](https://en.wikipedia.org/wiki/Angular_resolution)), the beamwidth of a parabolic reflector can be approximated as\n",
    "\n",
    "$$\\Delta \\theta_{\\textrm{3 dB}} = 1.22 \\frac{\\lambda}{D} = 1.22 \\frac{c}{\\nu \\cdot D}$$\n",
    "\n",
    "The beamwidth is defined here as the 3 dB crossing point, or a beamwidth such that the power drops off by a factor of two, this is also called the *half-power beamwidth*. The diameter $D=305$ m is used, though though the effective diameter is smaller because the spheriodal primary dish is only partially illuminated. And, $\\lambda$ is the transmission wavelength. The solid angle illuminated by the beam is\n",
    "\n",
    "$$\\Omega_{\\textrm{Beam}} = \\pi \\left(\\frac{\\Delta \\theta_{\\textrm{3 dB}}}{2}\\right)^2$$"
   ]
  },
  {
   "cell_type": "code",
   "execution_count": 3,
   "metadata": {
    "collapsed": false,
    "deletable": true,
    "editable": true
   },
   "outputs": [
    {
     "name": "stdout",
     "output_type": "stream",
     "text": [
      "theta_HPBW: 1.735341 arcmin\n",
      "Omega_beam: 2.00e-07 sr\n"
     ]
    }
   ],
   "source": [
    "cc = 299792458.0 # m/s\n",
    "areciboDiameter = 305. # m\n",
    "fCenter = 2380e6 # Hz\n",
    "freqs = fCenter + np.array([-1. * bw/2., bw/2.]) # lowest and highest frequency\n",
    "thetaHPBW = 70. * cc / (areciboDiameter * freqs) * (np.pi/180.)# radians\n",
    "omegaBeam = np.pi * (thetaHPBW / 2.)**2. # steradians\n",
    "avgOmegaBeam = np.mean(omegaBeam)\n",
    "\n",
    "print 'theta_HPBW: %f arcmin'%(np.mean(thetaHPBW) * (180./np.pi) * 60.)\n",
    "print 'Omega_beam: %.2e sr'%avgOmegaBeam"
   ]
  },
  {
   "cell_type": "markdown",
   "metadata": {
    "deletable": true,
    "editable": true
   },
   "source": [
    "The antenna gain of a parabolic dish (Eq. 17.8.16 [7](http://www.ece.rutgers.edu/~orfanidi/ewa/), [8](https://en.wikipedia.org/wiki/Parabolic_antenna#Gain)) is\n",
    "\n",
    "$$G_{\\textrm{parabolic}} = \\frac{4 \\pi A_{\\textrm{eff}}}{\\lambda^2} = \\epsilon \\left( \\frac{\\pi D}{\\lambda} \\right)^2$$\n",
    "\n",
    "where $A_{\\textrm{eff}} = A \\cdot \\epsilon$ is the effective area of the telescope aperture which is a product of the geometrical area $A$ and aperture efficiency $\\epsilon$. For the S-band system $\\epsilon \\approx 0.75$ ([9](http://www.naic.edu/~phil/sysperf/sysperfcum.html#sbn), [10](http://www.naic.edu/~phil/sysperf/sbn/sbn_csme_Cur.pdf)). As we can see from the gain and beamwidth equations, as the diameter of the dish increase there is an increase in gain, and a reduction in beam size.\n",
    "\n",
    "**Note**: this gain $G_{\\textrm{parabolic}}$ is the gain of the telescope due to the aperture geometry and efficiency, this term is *unit-less*. Often, there is another 'gain' term in radio astronomy in units K/Jy. This is the gain in the electornic system, and refers to the conversion between the measured values and the astronomical flux."
   ]
  },
  {
   "cell_type": "code",
   "execution_count": 4,
   "metadata": {
    "collapsed": false,
    "deletable": true,
    "editable": true
   },
   "outputs": [
    {
     "name": "stdout",
     "output_type": "stream",
     "text": [
      "Antenna gain of Arecibo: 4.340e+07\n"
     ]
    }
   ],
   "source": [
    "effic = 0.75 # Arecibo dish efficiency at S-band\n",
    "dd = 305. # m, Arecibo aperture size\n",
    "obsWavelength = cc / fCenter\n",
    "gainPara = effic * (((np.pi * dd)/obsWavelength)**2.)\n",
    "print 'Antenna gain of Arecibo: %.3e'%gainPara"
   ]
  },
  {
   "cell_type": "markdown",
   "metadata": {
    "deletable": true,
    "editable": true
   },
   "source": [
    "We can compute an 'apparent' Luminosity assuming the RADAR is coming from an isotropic source, this is called the *effective isotropic radiated power*. We will use this to transform the highly-directional transmission into an isotropic luminosity, using this we will compute the flux density. We do this assuming that the RADAR transmitter is aligned at boresight with the receiving telescope.\n",
    "\n",
    "$$L_{\\textrm{RADAR, iso}, \\nu} = \\frac{G_{\\textrm{parabolic}} \\cdot P_{\\textrm{RADAR}}}{\\Delta \\nu}$$\n",
    "\n",
    "It is important to note that this is lumonisty is in units W / Hz, that is the power per unit frequency. The bandwidth of the transmitter will have a large effect on the distance to a detectable signal as we will see later."
   ]
  },
  {
   "cell_type": "code",
   "execution_count": 5,
   "metadata": {
    "collapsed": false,
    "deletable": true,
    "editable": true
   },
   "outputs": [
    {
     "name": "stdout",
     "output_type": "stream",
     "text": [
      "Luminosity: 3.906e+05 W/Hz\n"
     ]
    }
   ],
   "source": [
    "lumIso = gainPara * pRadar / bw # isotropic luminsity, W/Hz\n",
    "print 'Luminosity: %.3e W/Hz'%lumIso"
   ]
  },
  {
   "cell_type": "markdown",
   "metadata": {
    "deletable": true,
    "editable": true
   },
   "source": [
    "The flux density of a source $S_{\\nu}$ can be related to the isotropic luminsity as\n",
    "\n",
    "$$S_{\\nu} = \\frac{L_{\\textrm{iso}, \\nu}}{4 \\pi r^2}$$\n",
    "\n",
    "where $r$ is the distance from the source to the detector. The flux density is in units $\\textrm{W} \\; \\textrm{m}^{-2} \\; \\textrm{Hz}$ and can be converted to Janskys (Jy) with\n",
    "\n",
    "$$1 \\; \\textrm{Jy} = 10^{-26} \\; \\frac{\\textrm{W}}{\\textrm{m}^2 \\textrm{Hz}}$$"
   ]
  },
  {
   "cell_type": "code",
   "execution_count": 6,
   "metadata": {
    "collapsed": false,
    "deletable": true,
    "editable": true
   },
   "outputs": [
    {
     "name": "stdout",
     "output_type": "stream",
     "text": [
      "Flux density of the Arecibo RADAR from the Moon: 2.103e+12 Jy\n",
      "Flux density of the Arecibo RADAR from Jupiter: 8.990e+05 Jy\n",
      "Flux density of the Arecibo RADAR from Alpha Centari (4.367 light-years): 1.821e-04 Jy\n",
      "Flux density of the Arecibo RADAR at 1 parsec: 3.268e-01 mJy\n",
      "Flux density of the Arecibo RADAR at 10 parsec: 3.268e+00 uJy\n"
     ]
    }
   ],
   "source": [
    "fluxDen = lambda r: lumIso / (4. * np.pi * r**2.)\n",
    "fluxDenJy = lambda r: fluxDen(r) / 10e-26\n",
    "\n",
    "ly2m = 9460730472580800. # number of meters in a light year\n",
    "distMoonEarth = 384400000. # distance from Earth to Moon in meters\n",
    "distJupiterEarth = 588e9 # distance from Earth to Jupiter in meters\n",
    "distAlphaCentEarth = 4.367 * ly2m\n",
    "print 'Flux density of the Arecibo RADAR from the Moon: %.3e Jy'%fluxDenJy(distMoonEarth)\n",
    "print 'Flux density of the Arecibo RADAR from Jupiter: %.3e Jy'%fluxDenJy(distJupiterEarth)\n",
    "print 'Flux density of the Arecibo RADAR from Alpha Centari (%.3f light-years): %.3e Jy'%\\\n",
    "    (4.367,fluxDenJy(distAlphaCentEarth))\n",
    "print 'Flux density of the Arecibo RADAR at 1 parsec: %.3e mJy'%(1e3 * fluxDenJy(3.26 * ly2m))\n",
    "print 'Flux density of the Arecibo RADAR at 10 parsec: %.3e uJy'%(1e6 * fluxDenJy(32.6 * ly2m))"
   ]
  },
  {
   "cell_type": "markdown",
   "metadata": {
    "deletable": true,
    "editable": true
   },
   "source": [
    "Looking at these numbers, a RADAR transmission needs to be fairly close to Earth to be detectable. We are in the micro-Jansky level at just 10 parsecs. To get a feel for how detectable an Arecibo RADAR signal is, let us compute the sensitivity of some radio telescopes to determine the maximum searchable distance."
   ]
  },
  {
   "cell_type": "markdown",
   "metadata": {
    "deletable": true,
    "editable": true
   },
   "source": [
    "---"
   ]
  },
  {
   "cell_type": "markdown",
   "metadata": {
    "deletable": true,
    "editable": true
   },
   "source": [
    "### Telescope Sensitivity"
   ]
  },
  {
   "cell_type": "markdown",
   "metadata": {
    "deletable": true,
    "editable": true
   },
   "source": [
    "The minimum sensitivity of a radio telescope $S_{\\textrm{min}}$ is described by the *radiometer equation*, for the case of a RADAR source it has been slightly expanded\n",
    "\n",
    "$$S_{\\textrm{min}} = \\textrm{SEFD} \\frac{\\textrm{SNR}_\\textrm{min}}{N_{\\textrm{antenna}} \\; \\sqrt{d_{\\textrm{cycle}} \\; N_{\\textrm{pol}} \\; \\Delta \\tau_{\\textrm{obs}} \\; \\Delta \\nu_{\\textrm{obs}}}}$$\n",
    "\n",
    "where $\\textrm{SEFD}$ is the system-equivalent flux density of a telescope in an array of $N_{\\textrm{antenna}}$ antennas with $N_{\\textrm{pol}}$ polarizations, for a given integration time $\\Delta \\tau_{\\textrm{obs}}$ and bandwidth $\\Delta \\nu_{\\textrm{obs}}$. The last term $d_{\\textrm{cycle}}$ is the duty cycle of the RADAR, for a continuous signal $D=1$, if the RADAR has a pulse width of 1 ms, every second then $d_{\\textrm{cycle}} = \\frac{1 \\textrm{ms}}{1 \\textrm{s}} = 0.001$. Note, we are assuming $\\Delta \\tau_{\\textrm{obs}}$ is a longer time length then the RADAR repetition time scale.\n",
    "\n",
    "Now assuming we know the duty cycle rate and bandwidth of the transmitting RADAR, how far away is a radio telescope sensitive to? Note, these assumptions are for the optimal detection case. Performing a large matched filter search over the time, duty cycle, and bandwidth space it is reasonable to make these assumptions.\n",
    "\n",
    "For our test case we will use $d_{\\textrm{cycle}}=1$, a minimum detection SNR of 7 and the Arecibo S-band RADAR specifications to look at the sensitivity of Arecibo, GBT, Parkes, MeerKAT, and the SKA. Note, we are assuming that an L-band RADAR would have similar specification for these telescopes.\n",
    "\n",
    "Note, SEFD and telescope sensitivity is related to the *Friis transmission equation* which relates the power received by a telescope in relation to the distance and power transmitted by another antenna in idealized conditions ([7](http://www.montana.edu/jshaw/documents/RadiometryFriis%20Eqn%20-%20Shaw%20-%20AJP%202013.pdf))."
   ]
  },
  {
   "cell_type": "code",
   "execution_count": 7,
   "metadata": {
    "collapsed": false,
    "deletable": true,
    "editable": true
   },
   "outputs": [
    {
     "name": "stdout",
     "output_type": "stream",
     "text": [
      "[  1.00000000e-03   1.01240430e-03   1.02496246e-03 ...,   2.92693646e+02\n",
      "   2.96324305e+02   3.00000000e+02]\n"
     ]
    }
   ],
   "source": [
    "dutyCycle = 1. # duty cycle of RADAR\n",
    "snrMin = 7. # minimum SNR needed for verifiable detection\n",
    "nuObs = 100e6\n",
    "minObsTime = np.log10(0.001)\n",
    "maxObsTime = np.log10(60.*5.)\n",
    "tObs = np.logspace(minObsTime, maxObsTime, num=1024) # observation integration time range\n",
    "print tObs\n",
    "\n",
    "def sMin(SEFD, snr, nAnt, nPol, dc, tObs, nuObs):\n",
    "    \"\"\"\n",
    "    SEFD: float, system-equivalent flux density\n",
    "    snr: float, minimum SNR needed for verifiable detection\n",
    "    nAnt: int, number of antennas/elements in the telescope array\n",
    "    nPol, int, number of polarizations in the reciever (1 or 2)\n",
    "    dc: float, duty cycle of RADAR\n",
    "    tObs: float, observational integration time, in seconds\n",
    "    nuObs: float, observational bandwidth, in Hz\n",
    "    \"\"\"\n",
    "    return SEFD * snr / (nAnt * np.sqrt(dc * nPol * tObs * nuObs))"
   ]
  },
  {
   "cell_type": "markdown",
   "metadata": {
    "deletable": true,
    "editable": true
   },
   "source": [
    "#### Arecibo\n",
    "\n",
    "Using the L-band system, the SEFD is approximately 3 Jy ([8](http://www.naic.edu/alfa/performance/))."
   ]
  },
  {
   "cell_type": "code",
   "execution_count": 8,
   "metadata": {
    "collapsed": false,
    "deletable": true,
    "editable": true
   },
   "outputs": [],
   "source": [
    "areciboSEFD = 3. # Jy\n",
    "areciboSMin = sMin(areciboSEFD, snrMin, 1, 2., dutyCycle, tObs, nuObs)"
   ]
  },
  {
   "cell_type": "markdown",
   "metadata": {
    "deletable": true,
    "editable": true
   },
   "source": [
    "#### GBT\n",
    "\n",
    "Using the L-band system, the SEFD is approximately 10 Jy ([9](https://science.nrao.edu/facilities/gbt/proposing/GBTpg.pdf))."
   ]
  },
  {
   "cell_type": "code",
   "execution_count": 9,
   "metadata": {
    "collapsed": true,
    "deletable": true,
    "editable": true
   },
   "outputs": [],
   "source": [
    "gbtSEFD = 10. # Jy\n",
    "gbtSMin = sMin(gbtSEFD, snrMin, 1, 2., dutyCycle, tObs, nuObs)"
   ]
  },
  {
   "cell_type": "markdown",
   "metadata": {
    "deletable": true,
    "editable": true
   },
   "source": [
    "#### Parkes\n",
    "\n",
    "Using the L-band system, using $T_{\\textrm{sys}} = 25 \\textrm{K}$ and gain $G = 1 / 1.2 \\; \\textrm{K/Jy}$, and $\\textrm{SEFD} = T_{\\textrm{sys}} / G$, then SEFD is approximately 30 Jy ([10](https://www.parkes.atnf.csiro.au/observing/documentation/user_guide/pks_ug_3.html))."
   ]
  },
  {
   "cell_type": "code",
   "execution_count": 10,
   "metadata": {
    "collapsed": false,
    "deletable": true,
    "editable": true
   },
   "outputs": [],
   "source": [
    "parkesSEFD = 25. * 1.2 # Jy\n",
    "parkesSMin = sMin(parkesSEFD, snrMin, 1, 2., dutyCycle, tObs, nuObs)"
   ]
  },
  {
   "cell_type": "markdown",
   "metadata": {
    "deletable": true,
    "editable": true
   },
   "source": [
    "#### MeerKAT\n",
    "\n",
    "Using the L-band system, the SEFD is approximately 440 Jy ([11](http://public.ska.ac.za/meerkat/meerkat-schedule))."
   ]
  },
  {
   "cell_type": "code",
   "execution_count": 11,
   "metadata": {
    "collapsed": true,
    "deletable": true,
    "editable": true
   },
   "outputs": [],
   "source": [
    "meerkatSEFD = 440. # Jy\n",
    "meerkatSMin = sMin(meerkatSEFD, snrMin, 64, 2., dutyCycle, tObs, nuObs)"
   ]
  },
  {
   "cell_type": "markdown",
   "metadata": {
    "deletable": true,
    "editable": true
   },
   "source": [
    "#### SKA Phase 1\n",
    "\n",
    "The SEFD of a dish element is approximately that of a MeerKAT dish. In Phase 1 250 dishes are planned ([12](https://www.skatelescope.org/uploaded/21705_130_Memo_Dewdney.pdf))."
   ]
  },
  {
   "cell_type": "code",
   "execution_count": 12,
   "metadata": {
    "collapsed": true,
    "deletable": true,
    "editable": true
   },
   "outputs": [],
   "source": [
    "ska1SEFD = 440. # Jy\n",
    "ska1SMin = sMin(ska1SEFD, snrMin, 250, 2., dutyCycle, tObs, nuObs)"
   ]
  },
  {
   "cell_type": "markdown",
   "metadata": {
    "deletable": true,
    "editable": true
   },
   "source": [
    "#### SKA Phase 2"
   ]
  },
  {
   "cell_type": "markdown",
   "metadata": {
    "deletable": true,
    "editable": true
   },
   "source": [
    "In Phase 2 of the SKA the SEFD of a dish element not expected to chang, 2000 dishes are planned."
   ]
  },
  {
   "cell_type": "code",
   "execution_count": 13,
   "metadata": {
    "collapsed": true,
    "deletable": true,
    "editable": true
   },
   "outputs": [],
   "source": [
    "ska2SEFD = 440. # Jy\n",
    "ska2SMin = sMin(ska2SEFD, snrMin, 2000, 2., dutyCycle, tObs, nuObs)"
   ]
  },
  {
   "cell_type": "code",
   "execution_count": 14,
   "metadata": {
    "collapsed": false,
    "deletable": true,
    "editable": true
   },
   "outputs": [
    {
     "data": {
      "text/plain": [
       "<matplotlib.legend.Legend at 0x7fc7529a3bd0>"
      ]
     },
     "execution_count": 14,
     "metadata": {},
     "output_type": "execute_result"
    },
    {
     "data": {
      "image/png": "[encoded data removed]",
      "text/plain": [
       "<matplotlib.figure.Figure at 0x7fc754ac0dd0>"
      ]
     },
     "metadata": {},
     "output_type": "display_data"
    }
   ],
   "source": [
    "distParSec = 3.26 * np.array([1e0, 3e0, 1e1, 3e1]) # distances in parsecs\n",
    "\n",
    "cmap = plt.cm.hsv\n",
    "colors = iter(cmap(np.linspace(0, 0.9, 6 + len(distParSec)))) # number of telescopes + number of fluxs\n",
    "\n",
    "plt.loglog(tObs, areciboSMin, color=next(colors), label='Arecibo')\n",
    "plt.loglog(tObs, gbtSMin, color=next(colors), label='GBT')\n",
    "plt.loglog(tObs, parkesSMin, color=next(colors), label='Parkes')\n",
    "plt.loglog(tObs, meerkatSMin, color=next(colors), label='MeerKAT')\n",
    "plt.loglog(tObs, ska1SMin, color=next(colors), label='SKA Phase 1')\n",
    "plt.loglog(tObs, ska2SMin, color=next(colors), label='SKA Phase 2')\n",
    "\n",
    "for dVal in distParSec:\n",
    "    fd = fluxDenJy(dVal * ly2m)\n",
    "    plt.axhline(y=fd, xmin=0.0, xmax=1.0, color=next(colors), linestyle=\"--\", alpha=0.7, \\\n",
    "                label='S= %.1e Jy (r= %.1e pc)'%(fd, dVal))\n",
    "\n",
    "plt.ylabel('Flux Density (Jy)')\n",
    "plt.xlabel('Integration Time (s)')\n",
    "plt.xlim(10**minObsTime, 10**maxObsTime)\n",
    "plt.title('Telescope Sensitivity (bw=%.0f MHz)'%(bw/1e6))\n",
    "plt.legend()"
   ]
  },
  {
   "cell_type": "markdown",
   "metadata": {
    "deletable": true,
    "editable": true
   },
   "source": [
    "The plot above shows the sensitivty of various telescope (both single dish, and arrays) which can be used to detect RADAR signals as a function of integration time. Most of these telescopes can detect an Arecibo RADAR at a few light-years. SKA Phase 2 can detect out to 10's of light-years. But, overall this doesn't look great. Even at very optimistic integration times the distance is small. And, there are only a few stars in that small volume. So is there no chance?\n",
    "\n",
    "There is. I have used the maximum observing bandwidth of 100 MHz and constant signal (i.e. duty cycle = 1) to generate this plot. Now in our idealistic Arecibo RADAR we can't improve the duty cycle, but can work with the bandwidth. The nearly megawatt of power is evenly distributed across 100 MHz of bandwidth. If instead the power was concentrated to a smaller bandwidth, say 1 MHz we get a significant improvement. Ths important point here about sensitivity is that the transmitter distributes the power across the bandwidth linearly, but the observing bandwidth $\\Delta \\nu_{\\textrm{obs}}$ in the radiometer equation only improves the sensitivity by a square root of the bandwidth. This is because the radiometer equation assumes the signal is weak compared to the system noise of the reciever. This is true, the transmitted RADAR signal starts strong, but by the time it reaches the reciever, it is weak compared to the system noise. When adding up the power across the band there is a weak signal, but also a noise term being summed. A better RADAR system in this case would have a very narrow transmission bandwidth.\n",
    "\n",
    "As for the duty cycle, it can be thought of as virtual. Assuming a RADAR signal goes on indefinately, even with a low duty cycle, sufficent $\\Delta \\tau_{\\textrm{obs}}$ can be accumulated using a folding or gating search. This requires recording high time resolution spectra, and given enough computational power, a search can be preformed similar to pulsar searches.\n",
    "\n",
    "If we decrease the transmission bandwidth, holding all else equal we can improve the detectable RADAR distance."
   ]
  },
  {
   "cell_type": "code",
   "execution_count": 15,
   "metadata": {
    "collapsed": false,
    "deletable": true,
    "editable": true
   },
   "outputs": [
    {
     "data": {
      "text/plain": [
       "<matplotlib.legend.Legend at 0x7fc752418150>"
      ]
     },
     "execution_count": 15,
     "metadata": {},
     "output_type": "execute_result"
    },
    {
     "data": {
      "image/png": "[encoded data removed]",
      "text/plain": [
       "<matplotlib.figure.Figure at 0x7fc7523b3f50>"
      ]
     },
     "metadata": {},
     "output_type": "display_data"
    }
   ],
   "source": [
    "bw = 0.005 * fCenter # 0.5% of the central frequency, Hz (1/s)\n",
    "lumIso = gainPara * pRadar / bw # isotropic luminsity, W/Hz\n",
    "\n",
    "distParSec = 3.26 * np.array([1e0, 3e0, 1e1, 3e1]) # distances in parsecs\n",
    "\n",
    "cmap = plt.cm.hsv\n",
    "colors = iter(cmap(np.linspace(0, 0.9, 6 + len(distParSec)))) # number of telescopes + number of fluxs\n",
    "\n",
    "plt.loglog(tObs, areciboSMin, color=next(colors), label='Arecibo')\n",
    "plt.loglog(tObs, gbtSMin, color=next(colors), label='GBT')\n",
    "plt.loglog(tObs, parkesSMin, color=next(colors), label='Parkes')\n",
    "plt.loglog(tObs, meerkatSMin, color=next(colors), label='MeerKAT')\n",
    "plt.loglog(tObs, ska1SMin, color=next(colors), label='SKA Phase 1')\n",
    "plt.loglog(tObs, ska2SMin, color=next(colors), label='SKA Phase 2')\n",
    "\n",
    "for dVal in distParSec:\n",
    "    fd = fluxDenJy(dVal * ly2m)\n",
    "    plt.axhline(y=fd, xmin=0.0, xmax=1.0, color=next(colors), linestyle=\"--\", alpha=0.7, \\\n",
    "                label='S= %.1e Jy (r= %.1e pc)'%(fd, dVal))\n",
    "\n",
    "plt.ylabel('Flux Density (Jy)')\n",
    "plt.xlabel('Integration Time (s)')\n",
    "plt.xlim(10**minObsTime, 10**maxObsTime)\n",
    "plt.title('Telescope Sensitivity (bw=%.0f MHz)'%(bw/1e6))\n",
    "plt.legend()"
   ]
  },
  {
   "cell_type": "markdown",
   "metadata": {
    "deletable": true,
    "editable": true
   },
   "source": [
    "It is reasonable for a Klystron, such as that used in the Arecibo RADAR, to cover a bandwidth that is a few precent of the central transmission frequency, and other transmitters can cover a range of fractional bandwidths ([13](https://en.wikipedia.org/wiki/Klystron), [14](http://www.radartutorial.eu/08.transmitters/Radar%20Transmitter.en.html)). Powers of 10's of MW is reasonable for a high power RADAR transmitter ([15](https://www.eiscat.se/scientist/document/technical-specifications/)), but it should be noted that increasing the power of a Klystron also increases the bandwidth ([16](https://books.google.co.za/books/about/Radar_Handbook_Third_Edition.html?id=76uF2Xebm-gC))."
   ]
  },
  {
   "cell_type": "markdown",
   "metadata": {
    "deletable": true,
    "editable": true
   },
   "source": [
    "Now, let us consider the current Breakthrough Listen observation strategy. A typical observation is 5 minutes of a target source (Source A), 5 minutes on a nearby secondary source (Source B1), back to Source A, then to a new secondary source (Source B2), back to Source a, and then finally to a third secondary source (Source B3). This strategy is used to mitigate human-made RFI.\n",
    "\n",
    "Assuming an ideal case where Source A has a Arecibo-like RADAR, with a duty cycle $d_{\\textrm{cycle}} = 1$, pointed directly at Earth, what is the maximum distance this source can be for a given telescope? That is, where is\n",
    "\n",
    "$$S_{\\textrm{min}} = S_{\\nu}(r_{\\textrm{max}})$$\n",
    "\n",
    "Solving for $r_{\\textrm{max}}$\n",
    "\n",
    "$$r_{\\textrm{max}} = \\left( \\frac{L_{\\textrm{iso}, \\nu} \\cdot N_{\\textrm{antenna}} \\; \\sqrt{d_{\\textrm{cycle}} \\; N_{\\textrm{pol}} \\; \\Delta \\tau_{\\textrm{obs}} \\; \\Delta \\nu_{\\textrm{obs}}}}{4 \\pi \\cdot \\textrm{SEFD} \\cdot \\textrm{SNR}_\\textrm{min}} \\right)^{1/2}$$"
   ]
  },
  {
   "cell_type": "code",
   "execution_count": 16,
   "metadata": {
    "collapsed": false,
    "deletable": true,
    "editable": true
   },
   "outputs": [
    {
     "name": "stdout",
     "output_type": "stream",
     "text": [
      "Maximum detectable distance of a narrow-band Arecibo RADAR, (t=900.0 s)\n",
      "\tArecibo: 2.4e+01 ly\n",
      "\tGBT: 1.3e+01 ly\n",
      "\tParkes: 7.7e+00 ly\n",
      "\tMeerKAT: 1.6e+01 ly\n",
      "\tSKA-1: 3.2e+01 ly\n",
      "\tSKA-2: 9.0e+01 ly\n"
     ]
    }
   ],
   "source": [
    "maxtObs = 15. * 60. # maximum BL observation time on a target source, seconds\n",
    "rMax = lambda SEFD, nAnt, nPol: np.sqrt(((lumIso/10e-26) * nAnt * np.sqrt(dutyCycle * 2. * maxtObs * nuObs))/ \\\n",
    "                                 (4. * np.pi * SEFD * snrMin)) # meters\n",
    "\n",
    "print 'Maximum detectable distance of a narrow-band Arecibo RADAR, (t=%.1f s)'%(maxtObs) \n",
    "print '\\tArecibo: %.1e ly'%(rMax(areciboSEFD, 1, 2) / ly2m)\n",
    "print '\\tGBT: %.1e ly'%(rMax(gbtSEFD, 1, 2) / ly2m)\n",
    "print '\\tParkes: %.1e ly'%(rMax(parkesSEFD, 1, 2) / ly2m)\n",
    "print '\\tMeerKAT: %.1e ly'%(rMax(meerkatSEFD, 64, 2) / ly2m)\n",
    "print '\\tSKA-1: %.1e ly'%(rMax(ska1SEFD, 250, 2) / ly2m)\n",
    "print '\\tSKA-2: %.1e ly'%(rMax(ska2SEFD, 2000, 2) / ly2m)"
   ]
  },
  {
   "cell_type": "markdown",
   "metadata": {
    "deletable": true,
    "editable": true
   },
   "source": [
    "Looked at another way, we can ask, given a distance how powerful must a transmitter be to be detected by a radio telescope on Earth? Solving for $P_{\\textrm{RADAR}}$ as a function of distance and minimum telescope sensitivity:\n",
    "\n",
    "$$P_{\\textrm{RADAR, min}} = \\frac{L_{\\textrm{RADAR, iso}, \\nu} \\cdot \\Delta \\nu}{G_{\\textrm{parabolic}}}\n",
    "= \\frac{4 \\pi r_{\\textrm{max}}^2 \\cdot S_{\\textrm{min}} \\cdot \\Delta \\nu}{G_{\\textrm{parabolic}}}$$\n",
    "\n",
    "**How reasonable are these detectable distances?**\n",
    "\n",
    "I have made a number of optimistic assumptions:\n",
    "\n",
    "* ETI would be beaming a signal directly at Earth, and we would be observing the point n the ky the signal is coming from (within the size of the telescope PSF main lobe).\n",
    "* We would integrate for the full period of the observation, and not be contaminated by terrestrial RFI\n",
    "* The duty cycle of the transmission RADAR is unity.\n",
    "* We would have sufficient search pipelines to search over all bandwidth such that the receiving bandwidth is equal to the transmission bandwidth.\n",
    "* A minimal signal to noise of 10 is reasonable for a detection.\n",
    "* The transmission signal would concentrate enough power in a narrow band.\n",
    "\n",
    "But, I have also left room for optimism:\n",
    "\n",
    "* ETI could be using a stronger RADAR, with an even narrower band.\n",
    "* We could pick a lower minimum signal to noise threshold.\n",
    "* The sidelobes of the telescope have reasonable sensitivity also.\n",
    "* Future arrays will potentially be more sensitive due to improvements in the system noise.\n",
    "\n",
    "I think we are not over-optimistically modelling an ETI RADAR, and could reasonably detect such a signal in a local region around Earth.\n",
    "\n",
    "The local stellar density is measured to be approximately 0.15 stars per cubic parsec ([17](http://adsabs.harvard.edu/abs/1978SvA....22..186L)). Using this density we can work out the number of systems we could be sensitive too."
   ]
  },
  {
   "cell_type": "code",
   "execution_count": 17,
   "metadata": {
    "collapsed": false,
    "deletable": true,
    "editable": true
   },
   "outputs": [],
   "source": [
    "# Simple model of the Milky Way with uniform density\n",
    "rhoStars = 0.15 # stars / pc^3"
   ]
  },
  {
   "cell_type": "markdown",
   "metadata": {
    "deletable": true,
    "editable": true
   },
   "source": [
    "Based on the maximum distance a telescope is sensitive to, the number of searchable stars is:"
   ]
  },
  {
   "cell_type": "code",
   "execution_count": 18,
   "metadata": {
    "collapsed": false,
    "deletable": true,
    "editable": true
   },
   "outputs": [
    {
     "name": "stdout",
     "output_type": "stream",
     "text": [
      "Maximum number of stars sensitive to:\n",
      "\tArecibo: 8994 stars\n",
      "\tGBT: 1477 stars\n",
      "\tParkes: 284 stars\n",
      "\tMeerKAT: 2592 stars\n",
      "\tSKA-1: 20016 stars\n",
      "\tSKA-2: 452915 stars\n"
     ]
    }
   ],
   "source": [
    "print 'Maximum number of stars sensitive to:'\n",
    "vMaxArecibo = (4. * np.pi / 3.) * ((rMax(areciboSEFD, 1, 2) / ly2m)**3.)\n",
    "print '\\tArecibo: %i stars'%(vMaxArecibo * rhoStars)\n",
    "\n",
    "vMaxGBT = (4. * np.pi / 3.) * ((rMax(gbtSEFD, 1, 2) / ly2m)**3.)\n",
    "print '\\tGBT: %i stars'%(vMaxGBT * rhoStars)\n",
    "\n",
    "vMaxParkes = (4. * np.pi / 3.) * ((rMax(parkesSEFD, 1, 2) / ly2m)**3.)\n",
    "print '\\tParkes: %i stars'%(vMaxParkes * rhoStars)\n",
    "\n",
    "vMaxMeerKAT = (4. * np.pi / 3.) * ((rMax(meerkatSEFD, 64, 2) / ly2m)**3.)\n",
    "print '\\tMeerKAT: %i stars'%(vMaxMeerKAT * rhoStars)\n",
    "\n",
    "vMaxSKA1 = (4. * np.pi / 3.) * ((rMax(ska1SEFD, 250, 2) / ly2m)**3.)\n",
    "print '\\tSKA-1: %i stars'%(vMaxSKA1 * rhoStars)\n",
    "\n",
    "vMaxSKA2 = (4. * np.pi / 3.) * ((rMax(ska2SEFD, 2000, 2) / ly2m)**3.)\n",
    "print '\\tSKA-2: %i stars'%(vMaxSKA2 * rhoStars)"
   ]
  }
 ],
 "metadata": {
  "kernelspec": {
   "display_name": "Python 2",
   "language": "python",
   "name": "python2"
  },
  "language_info": {
   "codemirror_mode": {
    "name": "ipython",
    "version": 2
   },
   "file_extension": ".py",
   "mimetype": "text/x-python",
   "name": "python",
   "nbconvert_exporter": "python",
   "pygments_lexer": "ipython2",
   "version": "2.7.12"
  }
 },
 "nbformat": 4,
 "nbformat_minor": 2
}
